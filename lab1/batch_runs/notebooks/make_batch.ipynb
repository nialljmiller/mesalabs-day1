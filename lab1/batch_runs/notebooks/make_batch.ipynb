{
  "cells": [
    {
      "cell_type": "markdown",
      "metadata": {
        "id": "RTtCdJkZPNqv"
      },
      "source": [
        "# MESA Batch Inlist Generator\n",
        "\n",
        "This notebook creates batch inlists for MESA simulations from a CSV file of parameters.\n",
        "\n",
        "## Instructions\n",
        "\n",
        "1. Upload your CSV file with the parameters using the file upload widget below\n",
        "2. Run all cells in sequence\n",
        "3. Download the generated inlist files as a zip file\n",
        "4. Extract the zip to your MESA work directory"
      ]
    },
    {
      "cell_type": "code",
      "execution_count": null,
      "metadata": {
        "id": "fFC08j3jPNqw"
      },
      "source": [
        "# Install required packages\n",
        "!pip install -q ipywidgets"
      ],
      "outputs": []
    },
    {
      "cell_type": "code",
      "execution_count": null,
      "metadata": {
        "id": "X5Y_AhFkPNqx"
      },
      "source": [
        "# Import required libraries\n",
        "import os\n",
        "import csv\n",
        "import re\n",
        "import io\n",
        "import zipfile\n",
        "from google.colab import files\n",
        "import ipywidgets as widgets\n",
        "from IPython.display import display, HTML"
      ],
      "outputs": []
    },
    {
      "cell_type": "markdown",
      "metadata": {
        "id": "GEcLnD0EPNqx"
      },
      "source": [
        "## 1. Upload CSV File\n",
        "\n",
        "Upload your CSV file containing the MESA model parameters. The CSV should have the following columns:\n",
        "- Name\n",
        "- Initial Mass [Msol]\n",
        "- Initial Metallicity\n",
        "- Overshoot Scheme\n",
        "- Overshoot Parameter (f_ov)\n",
        "- Overshoot f0"
      ]
    },
    {
      "cell_type": "code",
      "execution_count": null,
      "metadata": {
        "id": "R3KAQYG6PNqx"
      },
      "source": [
        "uploaded = files.upload()\n",
        "csv_filename = list(uploaded.keys())[0]  # Get the filename\n",
        "print(f\"Uploaded: {csv_filename}\")"
      ],
      "outputs": []
    },
    {
      "cell_type": "markdown",
      "metadata": {
        "id": "e53BAz4QPNqy"
      },
      "source": [
        "## 2. Provide MESA Template Inlist\n",
        "\n",
        "Now please upload your template `inlist_project` file. This is the base file that will be modified for each parameter set."
      ]
    },
    {
      "cell_type": "code",
      "execution_count": null,
      "metadata": {
        "id": "jt6-2aN3PNqy"
      },
      "source": [
        "uploaded_template = files.upload()\n",
        "template_filename = list(uploaded_template.keys())[0]  # Get the filename\n",
        "print(f\"Uploaded template: {template_filename}\")\n",
        "\n",
        "# Read the template content\n",
        "with open(template_filename, 'r') as f:\n",
        "    template_content = f.read()"
      ],
      "outputs": []
    },
    {
      "cell_type": "markdown",
      "metadata": {
        "id": "24XW5etKPNqy"
      },
      "source": [
        "## 3. Create Batch Inlists\n",
        "\n",
        "This function will create an inlist file for each row in the CSV file."
      ]
    },
    {
      "cell_type": "code",
      "execution_count": null,
      "metadata": {
        "id": "yEklomYaPNqz"
      },
      "source": [
        "def create_batch_inlists(csv_file, template_content):\n",
        "    \"\"\"Create batch inlists from parameters in CSV file\"\"\"\n",
        "    # Define paths\n",
        "    batch_dir = \"batch_inlists\"\n",
        "\n",
        "    # Create batch directory if it doesn't exist\n",
        "    os.makedirs(batch_dir, exist_ok=True)\n",
        "\n",
        "    # Dictionary to store inlist files\n",
        "    inlist_files = {}\n",
        "\n",
        "    # Read CSV file, skipping header\n",
        "    with open(csv_file, 'r', newline='') as f:\n",
        "        reader = csv.reader(f)\n",
        "        next(reader)  # Skip header row\n",
        "\n",
        "        for row in reader:\n",
        "            # Unpack row or skip if too short\n",
        "            if len(row) < 6:\n",
        "                continue\n",
        "\n",
        "            name = row[0].strip()\n",
        "            mass = row[1].strip()\n",
        "            metallicity = row[2].strip()\n",
        "            scheme = row[3].strip()\n",
        "            fov = row[4].strip()\n",
        "            f0 = row[5].strip()\n",
        "\n",
        "            # Skip rows with missing data\n",
        "            if not mass or not metallicity:\n",
        "                continue\n",
        "\n",
        "            # Create descriptive filename encoding the parameters\n",
        "            if scheme.lower() in [\"no overshooting\", \"none\", \"no overshoot\"]:\n",
        "                outfile = os.path.join(batch_dir, f\"inlist_M{mass}_Z{metallicity}_noovs.inp\")\n",
        "                outfile_basename = f\"inlist_M{mass}_Z{metallicity}_noovs.inp\"\n",
        "                ovs_option = \"none\"\n",
        "            else:\n",
        "                outfile = os.path.join(batch_dir, f\"inlist_M{mass}_Z{metallicity}_{scheme}_fov{fov}_f0{f0}.inp\")\n",
        "                outfile_basename = f\"inlist_M{mass}_Z{metallicity}_{scheme}_fov{fov}_f0{f0}.inp\"\n",
        "                ovs_option = scheme\n",
        "\n",
        "            print(f\"Creating {outfile_basename}...\")\n",
        "\n",
        "            # Start with the template content\n",
        "            content = template_content\n",
        "\n",
        "            # Update parameters in the inlist file\n",
        "            content = re.sub(r'initial_mass = [0-9]*(\\.?[0-9]*)?', f'initial_mass = {mass}', content)\n",
        "            content = re.sub(r'initial_z = [0-9]*(\\.?[0-9]*)?', f'initial_z = {metallicity}', content)\n",
        "            content = re.sub(r'Zbase = [0-9]*(\\.?[0-9]*)?', f'Zbase = {metallicity}', content)\n",
        "\n",
        "            # Handle save_model_filename\n",
        "            model_filename = f\"M{mass}_Z{metallicity}\"\n",
        "            if ovs_option != \"none\":\n",
        "                model_filename = f\"{model_filename}_{scheme}_fov{fov}_f0{f0}\"\n",
        "            else:\n",
        "                model_filename = f\"{model_filename}_noovs\"\n",
        "\n",
        "            content = re.sub(r\"save_model_filename = '.*'\", f\"save_model_filename = '{model_filename}.mod'\", content)\n",
        "\n",
        "            # Handle overshoot parameters\n",
        "            if ovs_option == \"none\":\n",
        "                # Comment out all overshoot lines\n",
        "                content = re.sub(r'^(\\s*overshoot_scheme)', r'!\\1', content, flags=re.MULTILINE)\n",
        "                content = re.sub(r'^(\\s*overshoot_zone_type)', r'!\\1', content, flags=re.MULTILINE)\n",
        "                content = re.sub(r'^(\\s*overshoot_zone_loc)', r'!\\1', content, flags=re.MULTILINE)\n",
        "                content = re.sub(r'^(\\s*overshoot_bdy_loc)', r'!\\1', content, flags=re.MULTILINE)\n",
        "                content = re.sub(r'^(\\s*overshoot_f\\()', r'!\\1', content, flags=re.MULTILINE)\n",
        "                content = re.sub(r'^(\\s*overshoot_f0\\()', r'!\\1', content, flags=re.MULTILINE)\n",
        "            else:\n",
        "                # Update overshoot parameters\n",
        "                content = re.sub(r'!*\\s*overshoot_scheme\\(1\\) = .*', f'     overshoot_scheme(1) = \\'{scheme}\\'', content)\n",
        "                content = re.sub(r'!*\\s*overshoot_zone_type\\(1\\) = .*', f'     overshoot_zone_type(1) = \\'any\\'', content)\n",
        "                content = re.sub(r'!*\\s*overshoot_zone_loc\\(1\\) = .*', f'     overshoot_zone_loc(1) = \\'core\\'', content)\n",
        "                content = re.sub(r'!*\\s*overshoot_bdy_loc\\(1\\) = .*', f'     overshoot_bdy_loc(1) = \\'top\\'', content)\n",
        "                content = re.sub(r'!*\\s*overshoot_f\\(1\\) = .*', f'     overshoot_f(1) = {fov}', content)\n",
        "                content = re.sub(r'!*\\s*overshoot_f0\\(1\\) = .*', f'     overshoot_f0(1) = {f0}', content)\n",
        "\n",
        "            # Store the content in our dictionary\n",
        "            inlist_files[outfile_basename] = content\n",
        "\n",
        "    print(f\"Created {len(inlist_files)} batch inlist files.\")\n",
        "    return inlist_files"
      ],
      "outputs": []
    },
    {
      "cell_type": "code",
      "execution_count": null,
      "metadata": {
        "id": "knSMDs9CPNqz"
      },
      "source": [
        "# Run the batch inlist creation\n",
        "inlist_files = create_batch_inlists(csv_filename, template_content)\n",
        "\n",
        "# Display the first few lines of a sample inlist file (if any were created)\n",
        "if inlist_files:\n",
        "    sample_filename = list(inlist_files.keys())[0]\n",
        "    sample_content = inlist_files[sample_filename]\n",
        "    print(f\"\\nSample of generated inlist file '{sample_filename}':\\n\")\n",
        "    print(\"\\n\".join(sample_content.split(\"\\n\")[:20]) + \"\\n...\")\n",
        "else:\n",
        "    print(\"No inlist files were created. Check your CSV file.\")"
      ],
      "outputs": []
    },
    {
      "cell_type": "markdown",
      "metadata": {
        "id": "rFJzFpasPNq0"
      },
      "source": [
        "## 4. Create and Download Zip File\n",
        "\n",
        "Pack all the inlist files into a zip for easy download."
      ]
    },
    {
      "cell_type": "code",
      "execution_count": null,
      "metadata": {
        "id": "23K2QTFRPNq0"
      },
      "source": [
        "def create_zip_file(inlist_files):\n",
        "    \"\"\"Create a zip file containing all the inlist files\"\"\"\n",
        "    zip_filename = \"batch_inlists.zip\"\n",
        "\n",
        "    # Create zip file in memory\n",
        "    zip_buffer = io.BytesIO()\n",
        "    with zipfile.ZipFile(zip_buffer, 'w', zipfile.ZIP_DEFLATED) as zip_file:\n",
        "        # Create a batch_inlists directory in the zip\n",
        "        for filename, content in inlist_files.items():\n",
        "            zip_file.writestr(os.path.join(\"batch_inlists\", filename), content)\n",
        "\n",
        "    # Save the zip file\n",
        "    with open(zip_filename, 'wb') as f:\n",
        "        f.write(zip_buffer.getvalue())\n",
        "\n",
        "    return zip_filename"
      ],
      "outputs": []
    },
    {
      "cell_type": "code",
      "execution_count": null,
      "metadata": {
        "id": "V7epLgWqPNq0"
      },
      "source": [
        "# Create the zip file\n",
        "zip_filename = create_zip_file(inlist_files)\n",
        "print(f\"Created zip file: {zip_filename}\")\n",
        "\n",
        "# Provide download link\n",
        "files.download(zip_filename)"
      ],
      "outputs": []
    },
    {
      "cell_type": "markdown",
      "metadata": {
        "id": "bWnDthhLPNq0"
      },
      "source": [
        "## 5. Installation Instructions\n",
        "\n",
        "After downloading the zip file, follow these steps to use the inlist files with MESA:\n",
        "\n",
        "1. Extract the `batch_inlists.zip` file\n",
        "2. Copy the `batch_inlists` folder to the `batch_runs` directory in your MESA work directory\n",
        "3. Use the `run_batch.py` script or the MESA Run Batch notebook to run simulations with these inlists\n",
        "\n",
        "The directory structure should look like:\n",
        "```\n",
        "mesa_work_directory/\n",
        "├── batch_runs/\n",
        "│   ├── batch_inlists/\n",
        "│   │   ├── inlist_M2_Z0.0140_noovs.inp\n",
        "│   │   ├── inlist_M2_Z0.0140_exponential_fov0.01_f00.001.inp\n",
        "│   │   └── ... (other inlist files)\n",
        "│   └── runs/\n",
        "├── inlist\n",
        "├── inlist_project\n",
        "├── inlist_pgstar\n",
        "└── ... (other MESA files)\n",
        "```"
      ]
    }
  ],
  "metadata": {
    "kernelspec": {
      "display_name": "Python 3",
      "language": "python",
      "name": "python3"
    },
    "language_info": {
      "codemirror_mode": {
        "name": "ipython",
        "version": 3
      },
      "file_extension": ".py",
      "mimetype": "text/x-python",
      "name": "python",
      "nbconvert_exporter": "python",
      "pygments_lexer": "ipython3",
      "version": "3.8.10"
    },
    "colab": {
      "provenance": []
    }
  },
  "nbformat": 4,
  "nbformat_minor": 0
}